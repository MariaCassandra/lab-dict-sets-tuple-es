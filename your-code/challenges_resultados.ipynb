{
 "cells": [
  {
   "cell_type": "markdown",
   "metadata": {},
   "source": [
    "## Desafío 1: Tuplas\n",
    "\n",
    "#### ¿Sabías que puedes crear tuplas con solo un elemento?\n",
    "\n",
    "**En la celda de abajo, define una variable `tup` con un único elemento `\"I\"`.**"
   ]
  },
  {
   "cell_type": "code",
   "execution_count": 12,
   "metadata": {},
   "outputs": [],
   "source": [
    "tup=tuple(\"I\")"
   ]
  },
  {
   "cell_type": "markdown",
   "metadata": {},
   "source": [
    "#### Imprime el tipo de `tup`.\n",
    "\n",
    "Asegúrate de que su tipo sea correcto (es decir, *tuple* en lugar de *str*)."
   ]
  },
  {
   "cell_type": "code",
   "execution_count": 13,
   "metadata": {},
   "outputs": [
    {
     "data": {
      "text/plain": [
       "tuple"
      ]
     },
     "execution_count": 13,
     "metadata": {},
     "output_type": "execute_result"
    }
   ],
   "source": [
    "type(tup)"
   ]
  },
  {
   "cell_type": "code",
   "execution_count": 14,
   "metadata": {},
   "outputs": [
    {
     "name": "stdout",
     "output_type": "stream",
     "text": [
      "('I',)\n"
     ]
    }
   ],
   "source": [
    "print(tup)"
   ]
  },
  {
   "cell_type": "markdown",
   "metadata": {},
   "source": [
    "#### Ahora intenta agregar los siguientes elementos a `tup`.\n",
    "\n",
    "¿Puedes hacerlo? Explica.\n",
    "\n",
    "```\n",
    "\"r\", \"o\", \"n\", \"h\", \"a\", \"c\", \"k',\n",
    "```"
   ]
  },
  {
   "cell_type": "code",
   "execution_count": 15,
   "metadata": {
    "scrolled": true
   },
   "outputs": [],
   "source": [
    "# No se puede añadir elementos"
   ]
  },
  {
   "cell_type": "markdown",
   "metadata": {},
   "source": [
    "#### ¿Qué tal si reasignas un nuevo valor a una tupla existente?\n",
    "\n",
    "Reasigna los siguientes elementos a `tup`. ¿Puedes hacerlo? Explica.\n",
    "\n",
    "```\n",
    "\"I\", \"r\", \"o\", \"n\", \"h\", \"a\", \"c\", \"k\"\n",
    "```"
   ]
  },
  {
   "cell_type": "code",
   "execution_count": 25,
   "metadata": {},
   "outputs": [],
   "source": [
    "tup=tuple(\"Ironhack\")"
   ]
  },
  {
   "cell_type": "code",
   "execution_count": 26,
   "metadata": {},
   "outputs": [
    {
     "name": "stdout",
     "output_type": "stream",
     "text": [
      "('I', 'r', 'o', 'n', 'h', 'a', 'c', 'k')\n"
     ]
    }
   ],
   "source": [
    "print(tup)"
   ]
  },
  {
   "cell_type": "markdown",
   "metadata": {},
   "source": [
    "#### Divide `tup` en `tup1` y `tup2` con 4 elementos en cada una.\n",
    "\n",
    "`tup1` debe ser `(\"I\", \"r\", \"o\", \"n\")` y `tup2` debe ser `(\"h\", \"a\", \"c\", \"k\")`.\n",
    "\n",
    "*Sugerencia: usa números de índice positivos para la asignación de `tup1` y números de índice negativos para la asignación de `tup2`. Los números de índice positivos cuentan desde el principio, mientras que los números de índice negativos cuentan desde el final de la secuencia.*\n",
    "\n",
    "También imprime `tup1` y `tup2`."
   ]
  },
  {
   "cell_type": "code",
   "execution_count": 27,
   "metadata": {},
   "outputs": [],
   "source": [
    "tup1=tup[0:4]\n",
    "tup2=tup[-4:]"
   ]
  },
  {
   "cell_type": "code",
   "execution_count": 28,
   "metadata": {},
   "outputs": [
    {
     "name": "stdout",
     "output_type": "stream",
     "text": [
      "tup1: ('I', 'r', 'o', 'n')\n",
      "tup2: ('h', 'a', 'c', 'k')\n"
     ]
    }
   ],
   "source": [
    "print(f\"tup1: {tup1}\")\n",
    "print(f\"tup2: {tup2}\")"
   ]
  },
  {
   "cell_type": "markdown",
   "metadata": {},
   "source": [
    "#### Suma `tup1` y `tup2` en `tup3` usando el operador `+`.\n",
    "\n",
    "Luego imprime `tup3` y verifica si `tup3` es igual a `tup`."
   ]
  },
  {
   "cell_type": "code",
   "execution_count": 29,
   "metadata": {},
   "outputs": [],
   "source": [
    "tup3=tup1+tup2"
   ]
  },
  {
   "cell_type": "code",
   "execution_count": 30,
   "metadata": {},
   "outputs": [
    {
     "name": "stdout",
     "output_type": "stream",
     "text": [
      "('I', 'r', 'o', 'n', 'h', 'a', 'c', 'k')\n"
     ]
    }
   ],
   "source": [
    "print(tup3)"
   ]
  },
  {
   "cell_type": "code",
   "execution_count": 31,
   "metadata": {},
   "outputs": [
    {
     "name": "stdout",
     "output_type": "stream",
     "text": [
      "True\n"
     ]
    }
   ],
   "source": [
    "print(tup3 == tup)"
   ]
  },
  {
   "cell_type": "code",
   "execution_count": 32,
   "metadata": {},
   "outputs": [
    {
     "name": "stdout",
     "output_type": "stream",
     "text": [
      "False\n"
     ]
    }
   ],
   "source": [
    "print(tup3 is tup)"
   ]
  },
  {
   "cell_type": "markdown",
   "metadata": {},
   "source": [
    "#### Cuenta el número de elementos en `tup1` y `tup2`. Luego suma los dos conteos y verifica si la suma es igual al número de elementos en `tup3`."
   ]
  },
  {
   "cell_type": "code",
   "execution_count": 34,
   "metadata": {},
   "outputs": [],
   "source": [
    "n_tup1=tup1.__len__()\n",
    "n_tup2=tup2.__len__()\n",
    "n_tup3=tup3.__len__()"
   ]
  },
  {
   "cell_type": "code",
   "execution_count": 35,
   "metadata": {},
   "outputs": [
    {
     "name": "stdout",
     "output_type": "stream",
     "text": [
      "True\n"
     ]
    }
   ],
   "source": [
    "print(n_tup3 == (n_tup1+n_tup2))"
   ]
  },
  {
   "cell_type": "markdown",
   "metadata": {},
   "source": [
    "#### ¿Cuál es el número de índice de `\"h\"` en `tup3`?"
   ]
  },
  {
   "cell_type": "code",
   "execution_count": 37,
   "metadata": {},
   "outputs": [
    {
     "data": {
      "text/plain": [
       "4"
      ]
     },
     "execution_count": 37,
     "metadata": {},
     "output_type": "execute_result"
    }
   ],
   "source": [
    "tup3.index(\"h\")"
   ]
  },
  {
   "cell_type": "markdown",
   "metadata": {},
   "source": [
    "#### Ahora, usa un bucle FOR para verificar si cada letra en la siguiente lista está presente en `tup3`:\n",
    "\n",
    "\n",
    "```\n",
    "letters = [\"a\", \"b\", \"c\", \"d\", \"e\"]\n",
    "```\n",
    "\n",
    "\n",
    "Para cada letra que verifiques, imprime `True` si está presente en `tup3`, de lo contrario imprime `False`.\n",
    "\n",
    "*Sugerencia: solo necesitas hacer un bucle con `letters`. No necesitas hacer un bucle con `tup3` porque hay un operador de Python `in` que puedes usar. Consulta la [referencia](https://stackoverflow.com/questions/17920147/how-to-check-if-a-tuple-contains-an-element-in-python).*"
   ]
  },
  {
   "cell_type": "code",
   "execution_count": 41,
   "metadata": {},
   "outputs": [],
   "source": [
    "letters = [\"a\", \"b\", \"c\", \"d\", \"e\"]"
   ]
  },
  {
   "cell_type": "code",
   "execution_count": 47,
   "metadata": {},
   "outputs": [
    {
     "name": "stdout",
     "output_type": "stream",
     "text": [
      "TRUE, la letra a se encuentra en tup3\n",
      "FALSE, la letra b no se encuentra en tup3\n",
      "TRUE, la letra c se encuentra en tup3\n",
      "FALSE, la letra d no se encuentra en tup3\n",
      "FALSE, la letra e no se encuentra en tup3\n"
     ]
    }
   ],
   "source": [
    "for i in letters:\n",
    "    if(i in tup3):\n",
    "        print(f\"TRUE, la letra {i} se encuentra en tup3\")\n",
    "    else:\n",
    "        print(f\"FALSE, la letra {i} no se encuentra en tup3\")"
   ]
  },
  {
   "cell_type": "markdown",
   "metadata": {},
   "source": [
    "#### ¿Cuántas veces aparece cada letra de `letters` en `tup3`?\n",
    "\n",
    "Imprime el número de ocurrencias de cada letra."
   ]
  },
  {
   "cell_type": "code",
   "execution_count": 51,
   "metadata": {},
   "outputs": [
    {
     "name": "stdout",
     "output_type": "stream",
     "text": [
      "El elemento a aparece 1 vez en la tupla\n",
      "El elemento c aparece 1 vez en la tupla\n"
     ]
    }
   ],
   "source": [
    "for i in letters:\n",
    "    if i in tup3:\n",
    "        times = tup3.count(i)\n",
    "        print(f\"El elemento {i} aparece {times} vez en la tupla\")"
   ]
  },
  {
   "cell_type": "markdown",
   "metadata": {},
   "source": [
    "## Desafío 2: Conjuntos\n",
    "\n",
    "Hay mucho que aprender sobre los Conjuntos en Python y la información presentada en la lección es limitada debido a su longitud. Para aprender a fondo sobre los Conjuntos en Python, te recomendamos encarecidamente que revises el tutorial de W3Schools sobre [Ejemplos y Métodos de Conjuntos en Python](https://www.w3schools.com/python/python_sets.asp) antes de trabajar en este laboratorio. Algunas preguntas difíciles de este laboratorio tienen sus soluciones en el tutorial de W3Schools.\n",
    "\n",
    "#### Primero, importa la biblioteca `random` de Python."
   ]
  },
  {
   "cell_type": "code",
   "execution_count": 53,
   "metadata": {},
   "outputs": [],
   "source": [
    "import random"
   ]
  },
  {
   "cell_type": "markdown",
   "metadata": {},
   "source": [
    "#### En la celda de abajo, crea una lista llamada `sample_list_1` con 80 valores aleatorios.\n",
    "\n",
    "Requisitos:\n",
    "\n",
    "* Cada valor es un entero entre 0 y 100.\n",
    "* Cada valor en la lista es único.\n",
    "\n",
    "Imprime `sample_list_1` para revisar sus valores.\n",
    "\n",
    "*Sugerencia: usa `random.sample` ([referencia](https://docs.python.org/3/library/random.html#random.sample)).*"
   ]
  },
  {
   "cell_type": "code",
   "execution_count": 54,
   "metadata": {},
   "outputs": [
    {
     "name": "stdout",
     "output_type": "stream",
     "text": [
      "[88, 91, 87, 43, 76, 70, 22, 84, 90, 63, 5, 25, 23, 100, 16, 39, 34, 11, 89, 97, 96, 64, 38, 54, 92, 32, 0, 24, 7, 59, 61, 93, 41, 33, 28, 77, 47, 73, 30, 68, 62, 6, 20, 18, 99, 27, 9, 60, 71, 35, 13, 44, 14, 36, 66, 52, 8, 15, 78, 37, 50, 29, 79, 69, 98, 56, 74, 55, 51, 49, 42, 53, 45, 4, 48, 57, 81, 17, 31, 86]\n"
     ]
    }
   ],
   "source": [
    "sample_list_1=random.sample(list(range(101)), 80)\n",
    "print(sample_list_1)"
   ]
  },
  {
   "cell_type": "markdown",
   "metadata": {},
   "source": [
    "#### Convierte `sample_list_1` en un conjunto llamado `set1`. Imprime la longitud del conjunto. ¿Su longitud sigue siendo 80?"
   ]
  },
  {
   "cell_type": "code",
   "execution_count": 55,
   "metadata": {},
   "outputs": [
    {
     "name": "stdout",
     "output_type": "stream",
     "text": [
      "80\n"
     ]
    }
   ],
   "source": [
    "set1=set(sample_list_1)\n",
    "print(len(set1))"
   ]
  },
  {
   "cell_type": "markdown",
   "metadata": {},
   "source": [
    "#### Crea otra lista llamada `sample_list_2` con 80 valores aleatorios.\n",
    "\n",
    "Requisitos:\n",
    "\n",
    "* Cada valor es un entero entre 0 y 100.\n",
    "* Los valores en la lista no tienen que ser únicos.\n",
    "\n",
    "*Sugerencia: Usa un bucle FOR.*"
   ]
  },
  {
   "cell_type": "code",
   "execution_count": 56,
   "metadata": {},
   "outputs": [
    {
     "name": "stdout",
     "output_type": "stream",
     "text": [
      "when i 0, then n 64\n",
      "when i 1, then n 62\n",
      "when i 2, then n 76\n",
      "when i 3, then n 63\n",
      "when i 4, then n 35\n",
      "when i 5, then n 61\n",
      "when i 6, then n 26\n",
      "when i 7, then n 92\n",
      "when i 8, then n 75\n",
      "when i 9, then n 61\n",
      "when i 10, then n 29\n",
      "when i 11, then n 1\n",
      "when i 12, then n 32\n",
      "when i 13, then n 84\n",
      "when i 14, then n 78\n",
      "when i 15, then n 8\n",
      "when i 16, then n 81\n",
      "when i 17, then n 4\n",
      "when i 18, then n 28\n",
      "when i 19, then n 100\n",
      "when i 20, then n 7\n",
      "when i 21, then n 31\n",
      "when i 22, then n 82\n",
      "when i 23, then n 100\n",
      "when i 24, then n 23\n",
      "when i 25, then n 3\n",
      "when i 26, then n 15\n",
      "when i 27, then n 54\n",
      "when i 28, then n 67\n",
      "when i 29, then n 2\n",
      "when i 30, then n 60\n",
      "when i 31, then n 35\n",
      "when i 32, then n 73\n",
      "when i 33, then n 26\n",
      "when i 34, then n 98\n",
      "when i 35, then n 58\n",
      "when i 36, then n 71\n",
      "when i 37, then n 29\n",
      "when i 38, then n 84\n",
      "when i 39, then n 81\n",
      "when i 40, then n 11\n",
      "when i 41, then n 21\n",
      "when i 42, then n 12\n",
      "when i 43, then n 39\n",
      "when i 44, then n 49\n",
      "when i 45, then n 3\n",
      "when i 46, then n 79\n",
      "when i 47, then n 99\n",
      "when i 48, then n 95\n",
      "when i 49, then n 62\n",
      "when i 50, then n 76\n",
      "when i 51, then n 95\n",
      "when i 52, then n 55\n",
      "when i 53, then n 89\n",
      "when i 54, then n 26\n",
      "when i 55, then n 75\n",
      "when i 56, then n 100\n",
      "when i 57, then n 95\n",
      "when i 58, then n 93\n",
      "when i 59, then n 8\n",
      "when i 60, then n 86\n",
      "when i 61, then n 39\n",
      "when i 62, then n 94\n",
      "when i 63, then n 92\n",
      "when i 64, then n 12\n",
      "when i 65, then n 68\n",
      "when i 66, then n 56\n",
      "when i 67, then n 65\n",
      "when i 68, then n 69\n",
      "when i 69, then n 49\n",
      "when i 70, then n 20\n",
      "when i 71, then n 43\n",
      "when i 72, then n 99\n",
      "when i 73, then n 72\n",
      "when i 74, then n 49\n",
      "when i 75, then n 37\n",
      "when i 76, then n 61\n",
      "when i 77, then n 39\n",
      "when i 78, then n 90\n",
      "[80, 64, 62, 76, 63, 35, 61, 26, 92, 75, 61, 29, 1, 32, 84, 78, 8, 81, 4, 28, 100, 7, 31, 82, 100, 23, 3, 15, 54, 67, 2, 60, 35, 73, 26, 98, 58, 71, 29, 84, 81, 11, 21, 12, 39, 49, 3, 79, 99, 95, 62, 76, 95, 55, 89, 26, 75, 100, 95, 93, 8, 86, 39, 94, 92, 12, 68, 56, 65, 69, 49, 20, 43, 99, 72, 49, 37, 61, 39, 90]\n"
     ]
    }
   ],
   "source": [
    "sample_list_2=[80]\n",
    "\n",
    "for i in range(0,79):\n",
    "    n = random.randint(0,100)\n",
    "    sample_list_2.append(n)\n",
    "    print(f\"when i {i}, then n {n}\")\n",
    "print( sample_list_2)"
   ]
  },
  {
   "cell_type": "markdown",
   "metadata": {},
   "source": [
    "#### Convierte `sample_list_2` en un conjunto llamado `set2`. Imprime la longitud del conjunto. ¿Su longitud sigue siendo 80?"
   ]
  },
  {
   "cell_type": "code",
   "execution_count": 57,
   "metadata": {},
   "outputs": [
    {
     "name": "stdout",
     "output_type": "stream",
     "text": [
      "56\n"
     ]
    }
   ],
   "source": [
    "set2=set(sample_list_2)\n",
    "print(len(set2))"
   ]
  },
  {
   "cell_type": "markdown",
   "metadata": {},
   "source": [
    "#### Identifica los elementos presentes en `set1` pero no en `set2`. Asigna los elementos a un nuevo conjunto llamado `set3`."
   ]
  },
  {
   "cell_type": "code",
   "execution_count": 58,
   "metadata": {},
   "outputs": [
    {
     "name": "stdout",
     "output_type": "stream",
     "text": [
      " 4 is present in both sets\n",
      " 7 is present in both sets\n",
      " 8 is present in both sets\n",
      " 11 is present in both sets\n",
      " 15 is present in both sets\n",
      " 20 is present in both sets\n",
      " 23 is present in both sets\n",
      " 28 is present in both sets\n",
      " 29 is present in both sets\n",
      " 31 is present in both sets\n",
      " 32 is present in both sets\n",
      " 35 is present in both sets\n",
      " 37 is present in both sets\n",
      " 39 is present in both sets\n",
      " 43 is present in both sets\n",
      " 49 is present in both sets\n",
      " 54 is present in both sets\n",
      " 55 is present in both sets\n",
      " 56 is present in both sets\n",
      " 60 is present in both sets\n",
      " 61 is present in both sets\n",
      " 62 is present in both sets\n",
      " 63 is present in both sets\n",
      " 64 is present in both sets\n",
      " 68 is present in both sets\n",
      " 69 is present in both sets\n",
      " 71 is present in both sets\n",
      " 73 is present in both sets\n",
      " 76 is present in both sets\n",
      " 78 is present in both sets\n",
      " 79 is present in both sets\n",
      " 81 is present in both sets\n",
      " 84 is present in both sets\n",
      " 86 is present in both sets\n",
      " 89 is present in both sets\n",
      " 90 is present in both sets\n",
      " 92 is present in both sets\n",
      " 93 is present in both sets\n",
      " 98 is present in both sets\n",
      " 99 is present in both sets\n",
      " 100 is present in both sets\n",
      "{0, 4, 5, 6, 7, 8, 9, 11, 13, 14, 15, 16, 17, 18, 20, 22, 23, 24, 25, 27, 28, 29, 30, 31, 32, 33, 34, 35, 36, 37, 38, 39, 41, 42, 43, 44, 45, 47, 48, 49, 50, 51, 52, 53, 54, 55, 56, 57, 59, 60, 61, 62, 63, 64, 66, 68, 69, 70, 71, 73, 74, 76, 77, 78, 79, 81, 84, 86, 87, 88, 89, 90, 91, 92, 93, 96, 97, 98, 99, 100}\n",
      "{1, 2, 3, 4, 7, 8, 11, 12, 15, 20, 21, 23, 26, 28, 29, 31, 32, 35, 37, 39, 43, 49, 54, 55, 56, 58, 60, 61, 62, 63, 64, 65, 67, 68, 69, 71, 72, 73, 75, 76, 78, 79, 80, 81, 82, 84, 86, 89, 90, 92, 93, 94, 95, 98, 99, 100}\n",
      "{0, 5, 6, 9, 13, 14, 16, 17, 18, 22, 24, 25, 27, 30, 33, 34, 36, 38, 41, 42, 44, 45, 47, 48, 50, 51, 52, 53, 57, 59, 66, 70, 74, 77, 87, 88, 91, 96, 97}\n"
     ]
    }
   ],
   "source": [
    "set3=set()\n",
    "for i in set1:\n",
    "    if i in set2:\n",
    "        print(f\" {i} is present in both sets\")\n",
    "    else: set3.add(i)\n",
    "print(set1)\n",
    "print(set2)\n",
    "print(set3)"
   ]
  },
  {
   "cell_type": "markdown",
   "metadata": {},
   "source": [
    "#### Identifica los elementos presentes en `set2` pero no en `set1`. Asigna los elementos a un nuevo conjunto llamado `set4`."
   ]
  },
  {
   "cell_type": "code",
   "execution_count": 59,
   "metadata": {},
   "outputs": [
    {
     "name": "stdout",
     "output_type": "stream",
     "text": [
      " 4 is present in both sets\n",
      " 7 is present in both sets\n",
      " 8 is present in both sets\n",
      " 11 is present in both sets\n",
      " 15 is present in both sets\n",
      " 20 is present in both sets\n",
      " 23 is present in both sets\n",
      " 28 is present in both sets\n",
      " 29 is present in both sets\n",
      " 31 is present in both sets\n",
      " 32 is present in both sets\n",
      " 35 is present in both sets\n",
      " 37 is present in both sets\n",
      " 39 is present in both sets\n",
      " 43 is present in both sets\n",
      " 49 is present in both sets\n",
      " 54 is present in both sets\n",
      " 55 is present in both sets\n",
      " 56 is present in both sets\n",
      " 60 is present in both sets\n",
      " 61 is present in both sets\n",
      " 62 is present in both sets\n",
      " 63 is present in both sets\n",
      " 64 is present in both sets\n",
      " 68 is present in both sets\n",
      " 69 is present in both sets\n",
      " 71 is present in both sets\n",
      " 73 is present in both sets\n",
      " 76 is present in both sets\n",
      " 78 is present in both sets\n",
      " 79 is present in both sets\n",
      " 81 is present in both sets\n",
      " 84 is present in both sets\n",
      " 86 is present in both sets\n",
      " 89 is present in both sets\n",
      " 90 is present in both sets\n",
      " 92 is present in both sets\n",
      " 93 is present in both sets\n",
      " 98 is present in both sets\n",
      " 99 is present in both sets\n",
      " 100 is present in both sets\n",
      "{1, 2, 3, 4, 7, 8, 11, 12, 15, 20, 21, 23, 26, 28, 29, 31, 32, 35, 37, 39, 43, 49, 54, 55, 56, 58, 60, 61, 62, 63, 64, 65, 67, 68, 69, 71, 72, 73, 75, 76, 78, 79, 80, 81, 82, 84, 86, 89, 90, 92, 93, 94, 95, 98, 99, 100}\n",
      "{0, 4, 5, 6, 7, 8, 9, 11, 13, 14, 15, 16, 17, 18, 20, 22, 23, 24, 25, 27, 28, 29, 30, 31, 32, 33, 34, 35, 36, 37, 38, 39, 41, 42, 43, 44, 45, 47, 48, 49, 50, 51, 52, 53, 54, 55, 56, 57, 59, 60, 61, 62, 63, 64, 66, 68, 69, 70, 71, 73, 74, 76, 77, 78, 79, 81, 84, 86, 87, 88, 89, 90, 91, 92, 93, 96, 97, 98, 99, 100}\n",
      "{1, 2, 3, 58, 65, 67, 72, 75, 12, 80, 82, 21, 26, 94, 95}\n"
     ]
    }
   ],
   "source": [
    "set4=set()\n",
    "for i in set2:\n",
    "    if i in set1:\n",
    "        print(f\" {i} is present in both sets\")\n",
    "    else: set4.add(i)\n",
    "print(set2)\n",
    "print(set1)\n",
    "print(set4)"
   ]
  },
  {
   "cell_type": "markdown",
   "metadata": {},
   "source": [
    "#### Ahora identifica los elementos compartidos entre `set1` y `set2`. Asigna los elementos a un nuevo conjunto llamado `set5`."
   ]
  },
  {
   "cell_type": "code",
   "execution_count": 60,
   "metadata": {},
   "outputs": [
    {
     "name": "stdout",
     "output_type": "stream",
     "text": [
      "elemento 0 is not in both sets\n",
      "elemento 5 is not in both sets\n",
      "elemento 6 is not in both sets\n",
      "elemento 9 is not in both sets\n",
      "elemento 13 is not in both sets\n",
      "elemento 14 is not in both sets\n",
      "elemento 16 is not in both sets\n",
      "elemento 17 is not in both sets\n",
      "elemento 18 is not in both sets\n",
      "elemento 22 is not in both sets\n",
      "elemento 24 is not in both sets\n",
      "elemento 25 is not in both sets\n",
      "elemento 27 is not in both sets\n",
      "elemento 30 is not in both sets\n",
      "elemento 33 is not in both sets\n",
      "elemento 34 is not in both sets\n",
      "elemento 36 is not in both sets\n",
      "elemento 38 is not in both sets\n",
      "elemento 41 is not in both sets\n",
      "elemento 42 is not in both sets\n",
      "elemento 44 is not in both sets\n",
      "elemento 45 is not in both sets\n",
      "elemento 47 is not in both sets\n",
      "elemento 48 is not in both sets\n",
      "elemento 50 is not in both sets\n",
      "elemento 51 is not in both sets\n",
      "elemento 52 is not in both sets\n",
      "elemento 53 is not in both sets\n",
      "elemento 57 is not in both sets\n",
      "elemento 59 is not in both sets\n",
      "elemento 66 is not in both sets\n",
      "elemento 70 is not in both sets\n",
      "elemento 74 is not in both sets\n",
      "elemento 77 is not in both sets\n",
      "elemento 87 is not in both sets\n",
      "elemento 88 is not in both sets\n",
      "elemento 91 is not in both sets\n",
      "elemento 96 is not in both sets\n",
      "elemento 97 is not in both sets\n",
      "{4, 7, 8, 11, 15, 20, 23, 28, 29, 31, 32, 35, 37, 39, 43, 49, 54, 55, 56, 60, 61, 62, 63, 64, 68, 69, 71, 73, 76, 78, 79, 81, 84, 86, 89, 90, 92, 93, 98, 99, 100}\n"
     ]
    }
   ],
   "source": [
    "set5=set()\n",
    "for i in set1:\n",
    "    if i in set1 and i in set2:\n",
    "        set5.add(i)\n",
    "    else: print(f\"elemento {i} is not in both sets\")\n",
    "print(set5)"
   ]
  },
  {
   "cell_type": "markdown",
   "metadata": {},
   "source": [
    "#### ¿Cuál es la relación entre los siguientes valores?\n",
    "\n",
    "* len(set1)\n",
    "* len(set2)\n",
    "* len(set3)\n",
    "* len(set4)\n",
    "* len(set5)\n",
    "\n",
    "Usa una fórmula matemática para representar esa relación. Prueba tu fórmula con código Python."
   ]
  },
  {
   "cell_type": "code",
   "execution_count": 61,
   "metadata": {},
   "outputs": [
    {
     "name": "stdout",
     "output_type": "stream",
     "text": [
      "{'set1': {'set1': 80}, 'set2': {'set2': 56}, 'set3': {'set3': 39}, 'set4': {'set4': 15}, 'set5': {'set5': 41}}\n"
     ]
    }
   ],
   "source": [
    "all_dic = {}\n",
    "all_dic.update(set1={\"set1\":(len(set1))})\n",
    "all_dic.update(set2={\"set2\":(len(set2))})\n",
    "all_dic.update(set3={\"set3\":(len(set3))})\n",
    "all_dic.update(set4={\"set4\":(len(set4))})\n",
    "all_dic.update(set5={\"set5\":(len(set5))})\n",
    "print(all_dic)"
   ]
  },
  {
   "cell_type": "markdown",
   "metadata": {},
   "source": [
    "#### Crea un conjunto vacío llamado `set6`."
   ]
  },
  {
   "cell_type": "code",
   "execution_count": 62,
   "metadata": {},
   "outputs": [
    {
     "name": "stdout",
     "output_type": "stream",
     "text": [
      "set()\n"
     ]
    }
   ],
   "source": [
    "set6=set()\n",
    "print(set6)"
   ]
  },
  {
   "cell_type": "markdown",
   "metadata": {},
   "source": [
    "#### Añade `set3` y `set5` a `set6` usando el método `update` de los Conjuntos de Python."
   ]
  },
  {
   "cell_type": "code",
   "execution_count": 63,
   "metadata": {},
   "outputs": [
    {
     "name": "stdout",
     "output_type": "stream",
     "text": [
      "{0, 4, 5, 6, 7, 8, 9, 11, 13, 14, 15, 16, 17, 18, 20, 22, 23, 24, 25, 27, 28, 29, 30, 31, 32, 33, 34, 35, 36, 37, 38, 39, 41, 42, 43, 44, 45, 47, 48, 49, 50, 51, 52, 53, 54, 55, 56, 57, 59, 60, 61, 62, 63, 64, 66, 68, 69, 70, 71, 73, 74, 76, 77, 78, 79, 81, 84, 86, 87, 88, 89, 90, 91, 92, 93, 96, 97, 98, 99, 100}\n"
     ]
    }
   ],
   "source": [
    "set6.update(set3)\n",
    "set6.update(set5)\n",
    "print(set6)"
   ]
  },
  {
   "cell_type": "markdown",
   "metadata": {},
   "source": [
    "#### Verifica si `set1` y `set6` son iguales."
   ]
  },
  {
   "cell_type": "code",
   "execution_count": 64,
   "metadata": {},
   "outputs": [
    {
     "name": "stdout",
     "output_type": "stream",
     "text": [
      "Ambos conjuntos son iguales\n"
     ]
    }
   ],
   "source": [
    "if set1==set6:\n",
    "    print(\"Ambos conjuntos son iguales\")\n",
    "else:\n",
    "    print(\"Los conjuntos son diferentes\")"
   ]
  },
  {
   "cell_type": "markdown",
   "metadata": {},
   "source": [
    "#### Comprueba si `set1` contiene a `set2` utilizando el método `issubset` de los Conjuntos de Python. Luego verifica si `set1` contiene a `set3`."
   ]
  },
  {
   "cell_type": "code",
   "execution_count": 65,
   "metadata": {},
   "outputs": [
    {
     "name": "stdout",
     "output_type": "stream",
     "text": [
      "False\n"
     ]
    }
   ],
   "source": [
    "es_subconjunto = set2.issubset(set1)\n",
    "print(es_subconjunto)"
   ]
  },
  {
   "cell_type": "markdown",
   "metadata": {},
   "source": [
    "#### Utilizando el método `union` de los Conjuntos de Python, agrega `set3`, `set4` y `set5`. Luego agrega `set1` y `set2`.\n",
    "\n",
    "#### Verifica si los valores agregados son iguales."
   ]
  },
  {
   "cell_type": "code",
   "execution_count": 66,
   "metadata": {},
   "outputs": [
    {
     "name": "stdout",
     "output_type": "stream",
     "text": [
      "{0, 1, 2, 3, 4, 5, 6, 7, 8, 9, 11, 12, 13, 14, 15, 16, 17, 18, 20, 21, 22, 23, 24, 25, 26, 27, 28, 29, 30, 31, 32, 33, 34, 35, 36, 37, 38, 39, 41, 42, 43, 44, 45, 47, 48, 49, 50, 51, 52, 53, 54, 55, 56, 57, 58, 59, 60, 61, 62, 63, 64, 65, 66, 67, 68, 69, 70, 71, 72, 73, 74, 75, 76, 77, 78, 79, 80, 81, 82, 84, 86, 87, 88, 89, 90, 91, 92, 93, 94, 95, 96, 97, 98, 99, 100}\n",
      "{0, 1, 2, 3, 4, 5, 6, 7, 8, 9, 11, 12, 13, 14, 15, 16, 17, 18, 20, 21, 22, 23, 24, 25, 26, 27, 28, 29, 30, 31, 32, 33, 34, 35, 36, 37, 38, 39, 41, 42, 43, 44, 45, 47, 48, 49, 50, 51, 52, 53, 54, 55, 56, 57, 58, 59, 60, 61, 62, 63, 64, 65, 66, 67, 68, 69, 70, 71, 72, 73, 74, 75, 76, 77, 78, 79, 80, 81, 82, 84, 86, 87, 88, 89, 90, 91, 92, 93, 94, 95, 96, 97, 98, 99, 100}\n",
      "Ambos conjuntos son iguales\n"
     ]
    }
   ],
   "source": [
    "union345= set3 | set4 |set5\n",
    "union12= set1 | set2\n",
    "print (union345)\n",
    "print (union12)\n",
    "\n",
    "if union345==union12:\n",
    "    print(\"Ambos conjuntos son iguales\")\n",
    "else:\n",
    "    print(\"Los conjuntos son diferentes\")"
   ]
  },
  {
   "cell_type": "markdown",
   "metadata": {},
   "source": [
    "#### Utilizando el método `pop`, elimina el primer elemento de `set1`."
   ]
  },
  {
   "cell_type": "code",
   "execution_count": 67,
   "metadata": {},
   "outputs": [
    {
     "name": "stdout",
     "output_type": "stream",
     "text": [
      "0\n",
      "{4, 5, 6, 7, 8, 9, 11, 13, 14, 15, 16, 17, 18, 20, 22, 23, 24, 25, 27, 28, 29, 30, 31, 32, 33, 34, 35, 36, 37, 38, 39, 41, 42, 43, 44, 45, 47, 48, 49, 50, 51, 52, 53, 54, 55, 56, 57, 59, 60, 61, 62, 63, 64, 66, 68, 69, 70, 71, 73, 74, 76, 77, 78, 79, 81, 84, 86, 87, 88, 89, 90, 91, 92, 93, 96, 97, 98, 99, 100}\n"
     ]
    }
   ],
   "source": [
    "x= set1.pop()\n",
    "print(x)\n",
    "print(set1)"
   ]
  },
  {
   "cell_type": "markdown",
   "metadata": {},
   "source": [
    "#### Elimina cada elemento en la siguiente lista de `set1` si están presentes en el conjunto. Imprime los elementos restantes.\n",
    "\n",
    "```\n",
    "list_to_remove = [1, 9, 11, 19, 21, 29, 31, 39, 41, 49, 51, 59, 61, 69, 71, 79, 81, 89, 91, 99]\n",
    "```"
   ]
  },
  {
   "cell_type": "code",
   "execution_count": 68,
   "metadata": {},
   "outputs": [
    {
     "name": "stdout",
     "output_type": "stream",
     "text": [
      "{4, 5, 6, 7, 8, 13, 14, 15, 16, 17, 18, 20, 22, 23, 24, 25, 27, 28, 30, 32, 33, 34, 35, 36, 37, 38, 42, 43, 44, 45, 47, 48, 50, 52, 53, 54, 55, 56, 57, 60, 62, 63, 64, 66, 68, 70, 73, 74, 76, 77, 78, 84, 86, 87, 88, 90, 92, 93, 96, 97, 98, 100}\n"
     ]
    }
   ],
   "source": [
    "list_to_remove = [1, 9, 11, 19, 21, 29, 31, 39, 41, 49, 51, 59, 61, 69, 71, 79, 81, 89, 91, 99]\n",
    "for i in range(0, len(list_to_remove)):\n",
    "    set1.discard(list_to_remove[i])\n",
    "print(set1)"
   ]
  },
  {
   "cell_type": "markdown",
   "metadata": {},
   "source": [
    "## BONUS - Desafío 3: Diccionarios\n",
    "\n",
    "En este desafío practicarás cómo manipular diccionarios en Python. Antes de empezar este desafío, te animamos a revisar los [Ejemplos y Métodos de Diccionarios en Python](https://www.w3schools.com/python/python_dictionaries.asp) de W3School.\n",
    "\n",
    "Lo primero que practicarás es cómo ordenar las claves en un diccionario. A diferencia del objeto de lista, el diccionario de Python no tiene un método *sort* incorporado. Necesitarás usar bucles FOR para ordenar los diccionarios ya sea por clave o por valor.\n",
    "\n",
    "El diccionario a continuación es un resumen de la frecuencia de palabras de la canción *Shape of You* de Ed Sheeran. Cada clave es una palabra en la letra y el valor es el número de veces que esa palabra aparece en la letra."
   ]
  },
  {
   "cell_type": "code",
   "execution_count": null,
   "metadata": {},
   "outputs": [],
   "source": [
    "word_freq = {'love': 25, 'conversation': 1, 'every': 6, \"we're\": 1, 'plate': 1, 'sour': 1, 'jukebox': 1, 'now': 11, 'taxi': 1, 'fast': 1, 'bag': 1, 'man': 1, 'push': 3, 'baby': 14, 'going': 1, 'you': 16, \"don't\": 2, 'one': 1, 'mind': 2, 'backseat': 1, 'friends': 1, 'then': 3, 'know': 2, 'take': 1, 'play': 1, 'okay': 1, 'so': 2, 'begin': 1, 'start': 2, 'over': 1, 'body': 17, 'boy': 2, 'just': 1, 'we': 7, 'are': 1, 'girl': 2, 'tell': 1, 'singing': 2, 'drinking': 1, 'put': 3, 'our': 1, 'where': 1, \"i'll\": 1, 'all': 1, \"isn't\": 1, 'make': 1, 'lover': 1, 'get': 1, 'radio': 1, 'give': 1, \"i'm\": 23, 'like': 10, 'can': 1, 'doing': 2, 'with': 22, 'club': 1, 'come': 37, 'it': 1, 'somebody': 2, 'handmade': 2, 'out': 1, 'new': 6, 'room': 3, 'chance': 1, 'follow': 6, 'in': 27, 'may': 2, 'brand': 6, 'that': 2, 'magnet': 3, 'up': 3, 'first': 1, 'and': 23, 'pull': 3, 'of': 6, 'table': 1, 'much': 2, 'last': 3, 'i': 6, 'thrifty': 1, 'grab': 2, 'was': 2, 'driver': 1, 'slow': 1, 'dance': 1, 'the': 18, 'say': 2, 'trust': 1, 'family': 1, 'week': 1, 'date': 1, 'me': 10, 'do': 3, 'waist': 2, 'smell': 3, 'day': 6, 'although': 3, 'your': 21, 'leave': 1, 'want': 2, \"let's\": 2, 'lead': 6, 'at': 1, 'hand': 1, 'how': 1, 'talk': 4, 'not': 2, 'eat': 1, 'falling': 3, 'about': 1, 'story': 1, 'sweet': 1, 'best': 1, 'crazy': 2, 'let': 1, 'too': 5, 'van': 1, 'shots': 1, 'go': 2, 'to': 2, 'a': 8, 'my': 33, 'is': 5, 'place': 1, 'find': 1, 'shape': 6, 'on': 40, 'kiss': 1, 'were': 3, 'night': 3, 'heart': 3, 'for': 3, 'discovering': 6, 'something': 6, 'be': 16, 'bedsheets': 3, 'fill': 2, 'hours': 2, 'stop': 1, 'bar': 1}"
   ]
  },
  {
   "cell_type": "markdown",
   "metadata": {},
   "source": [
    "#### Ordena las claves de `word_freq` de forma ascendente.\n",
    "\n",
    "Por favor, crea un nuevo diccionario llamado `word_freq2` basado en `word_freq` con las claves ordenadas de forma ascendente.\n",
    "\n",
    "Hay varias formas de lograr ese objetivo, pero muchas de ellas van más allá de lo que hemos cubierto hasta ahora en el curso. Hay una forma que describiremos empleando lo que has aprendido. Por favor, siéntete libre de usar esta forma o cualquier otra que desees.\n",
    "\n",
    "1. Primero extrae las claves de `word_freq` y conviértelas en una lista llamada `keys`.\n",
    "\n",
    "1. Ordena la lista `keys`.\n",
    "\n",
    "1. Crea un diccionario vacío `word_freq2`.\n",
    "\n",
    "1. Usa un bucle FOR para iterar cada valor en `keys`. Para cada clave iterada, encuentra el valor correspondiente en `word_freq` e inserta el par clave-valor en `word_freq2`.\n",
    "\n",
    "📖 [Documentación para un bucle for](https://docs.python.org/3/reference/compound_stmts.html#for)\n",
    "\n",
    "Imprime `word_freq2` para examinar sus claves y valores. Tu salida debería ser:\n",
    "\n",
    "```python\n",
    "{'a': 8, 'about': 1, 'all': 1, 'although': 3, 'and': 23, 'are': 1, 'at': 1, 'baby': 14, 'backseat': 1, 'bag': 1, 'bar': 1, 'be': 16, 'bedsheets': 3, 'begin': 1, 'best': 1, 'body': 17, 'boy': 2, 'brand': 6, 'can': 1, 'chance': 1, 'club': 1, 'come': 37, 'conversation': 1, 'crazy': 2, 'dance': 1, 'date': 1, 'day': 6, 'discovering': 6, 'do': 3, 'doing': 2, \"don't\": 2, 'drinking': 1, 'driver': 1, 'eat': 1, 'every': 6, 'falling': 3, 'family': 1, 'fast': 1, 'fill': 2, 'find': 1, 'first': 1, 'follow': 6, 'for': 3, 'friends': 1, 'get': 1, 'girl': 2, 'give': 1, 'go': 2, 'going': 1, 'grab': 2, 'hand': 1, 'handmade': 2, 'heart': 3, 'hours': 2, 'how': 1, 'i': 6, \"i'll\": 1, \"i'm\": 23, 'in': 27, 'is': 5, \"isn't\": 1, 'it': 1, 'jukebox': 1, 'just': 1, 'kiss': 1, 'know': 2, 'last': 3, 'lead': 6, 'leave': 1, 'let': 1, \"let's\": 2, 'like': 10, 'love': 25, 'lover': 1, 'magnet': 3, 'make': 1, 'man': 1, 'may': 2, 'me': 10, 'mind': 2, 'much': 2, 'my': 33, 'new': 6, 'night': 3, 'not': 2, 'now': 11, 'of': 6, 'okay': 1, 'on': 40, 'one': 1, 'our': 1, 'out': 1, 'over': 1, 'place': 1, 'plate': 1, 'play': 1, 'pull': 3, 'push': 3, 'put': 3, 'radio': 1, 'room': 3, 'say': 2, 'shape': 6, 'shots': 1, 'singing': 2, 'slow': 1, 'smell': 3, 'so': 2, 'somebody': 2, 'something': 6, 'sour': 1, 'start': 2, 'stop': 1, 'story': 1, 'sweet': 1, 'table': 1, 'take': 1, 'talk': 4, 'taxi': 1, 'tell': 1, 'that': 2, 'the': 18, 'then': 3, 'thrifty': 1, 'to': 2, 'too': 5, 'trust': 1, 'up': 3, 'van': 1, 'waist': 2, 'want': 2, 'was': 2, 'we': 7, \"we're\": 1, 'week': 1, 'were': 3, 'where': 1, 'with': 22, 'you': 16, 'your': 21}\n",
    "```"
   ]
  },
  {
   "cell_type": "code",
   "execution_count": null,
   "metadata": {},
   "outputs": [],
   "source": [
    "# Tu codigo aquí"
   ]
  },
  {
   "cell_type": "markdown",
   "metadata": {},
   "source": [
    "#### Ordena los valores de `word_freq` de forma ascendente.\n",
    "\n",
    "Ordenar los valores de un diccionario es más complicado que ordenar las claves porque los valores de un diccionario no son únicos. Por lo tanto, no puedes usar la misma forma en que ordenaste las claves del diccionario para ordenar los valores del diccionario.\n",
    "\n",
    "La forma de ordenar un diccionario por valor es utilizar las funciones `sorted` y `operator.itemgetter`. El siguiente fragmento de código se te proporciona para que lo pruebes. Te dará una lista de tuplas en la que cada tupla contiene la clave y el valor de un elemento del diccionario. Y la lista está ordenada basada en el valor del diccionario ( [referencia](http://thomas-cokelaer.info/blog/2017/12/how-to-sort-a-dictionary-by-values-in-python/)\n",
    ").\n",
    "\n",
    "```python\n",
    "import operator\n",
    "sorted_tups = sorted(word_freq.items(), key=operator.itemgetter(1))\n",
    "print(sorted_tups)\n",
    "```\n",
    "\n",
    "Por lo tanto, los pasos para ordenar `word_freq` por valor son:\n",
    "\n",
    "* Utilizando `sorted` y `operator.itemgetter`, obtén una lista de tuplas de los pares clave-valor del diccionario que está ordenada por el valor.\n",
    "\n",
    "* Crea un diccionario vacío llamado `word_freq2`.\n",
    "\n",
    "* Itera la lista de tuplas. Inserta cada par clave-valor en `word_freq2` como un objeto.\n",
    "\n",
    "Imprime `word_freq2` para confirmar que tu diccionario tiene sus valores ordenados. Tu salida debería ser:\n",
    "\n",
    "```python\n",
    "{'conversation': 1, \"we're\": 1, 'plate': 1, 'sour': 1, 'jukebox': 1, 'taxi': 1, 'fast': 1, 'bag': 1, 'man': 1, 'going': 1, 'one': 1, 'backseat': 1, 'friends': 1, 'take': 1, 'play': 1, 'okay': 1, 'begin': 1, 'over': 1, 'just': 1, 'are': 1, 'tell': 1, 'drinking': 1, 'our': 1, 'where': 1, \"i'll\": 1, 'all': 1, \"isn't\": 1, 'make': 1, 'lover': 1, 'get': 1, 'radio': 1, 'give': 1, 'can': 1, 'club': 1, 'it': 1, 'out': 1, 'chance': 1, 'first': 1, 'table': 1, 'thrifty': 1, 'driver': 1, 'slow': 1, 'dance': 1, 'trust': 1, 'family': 1, 'week': 1, 'date': 1, 'leave': 1, 'at': 1, 'hand': 1, 'how': 1, 'eat': 1, 'about': 1, 'story': 1, 'sweet': 1, 'best': 1, 'let': 1, 'van': 1, 'shots': 1, 'place': 1, 'find': 1, 'kiss': 1, 'stop': 1, 'bar': 1, \"don't\": 2, 'mind': 2, 'know': 2, 'so': 2, 'start': 2, 'boy': 2, 'girl': 2, 'singing': 2, 'doing': 2, 'somebody': 2, 'handmade': 2, 'may': 2, 'that': 2, 'much': 2, 'grab': 2, 'was': 2, 'say': 2, 'waist': 2, 'want': 2, \"let's\": 2, 'not': 2, 'crazy': 2, 'go': 2, 'to': 2, 'fill': 2, 'hours': 2, 'push': 3, 'then': 3, 'put': 3, 'room': 3, 'magnet': 3, 'up': 3, 'pull': 3, 'last': 3, 'do': 3, 'smell': 3, 'although': 3, 'falling': 3, 'were': 3, 'night': 3, 'heart': 3, 'for': 3, 'bedsheets': 3, 'talk': 4, 'too': 5, 'is': 5, 'every': 6, 'new': 6, 'follow': 6, 'brand': 6, 'of': 6, 'i': 6, 'day': 6, 'lead': 6, 'shape': 6, 'discovering': 6, 'something': 6, 'we': 7, 'a': 8, 'like': 10, 'me': 10, 'now': 11, 'baby': 14, 'you': 16, 'be': 16, 'body': 17, 'the': 18, 'your': 21, 'with': 22, \"i'm\": 23, 'and': 23, 'love': 25, 'in': 27, 'my': 33, 'come': 37, 'on': 40}\n",
    "```"
   ]
  },
  {
   "cell_type": "code",
   "execution_count": null,
   "metadata": {},
   "outputs": [],
   "source": [
    "# Tu codigo aquí"
   ]
  }
 ],
 "metadata": {
  "kernelspec": {
   "display_name": "Python 3 (ipykernel)",
   "language": "python",
   "name": "python3"
  },
  "language_info": {
   "codemirror_mode": {
    "name": "ipython",
    "version": 3
   },
   "file_extension": ".py",
   "mimetype": "text/x-python",
   "name": "python",
   "nbconvert_exporter": "python",
   "pygments_lexer": "ipython3",
   "version": "3.10.12"
  },
  "vscode": {
   "interpreter": {
    "hash": "aee8b7b246df8f9039afb4144a1f6fd8d2ca17a180786b69acc140d282b71a49"
   }
  }
 },
 "nbformat": 4,
 "nbformat_minor": 4
}
